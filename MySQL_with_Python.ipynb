{
 "cells": [
  {
   "cell_type": "markdown",
   "id": "4dab7285",
   "metadata": {},
   "source": [
    "# MySQL with Python"
   ]
  },
  {
   "cell_type": "code",
   "execution_count": 35,
   "id": "63f104c6",
   "metadata": {},
   "outputs": [],
   "source": [
    "import mysql.connector\n",
    "from mysql.connector import Error\n",
    "import pandas as pd"
   ]
  },
  {
   "cell_type": "code",
   "execution_count": 36,
   "id": "9532eb4b",
   "metadata": {},
   "outputs": [
    {
     "name": "stdout",
     "output_type": "stream",
     "text": [
      "MySQL Database connection succesfull\n"
     ]
    }
   ],
   "source": [
    "def create_server_connection(host_name, user_name, user_password):\n",
    "    connection = None\n",
    "    try:\n",
    "        connection = mysql.connector.connect(\n",
    "            host = host_name,\n",
    "            user = user_name,\n",
    "            passwd = user_password\n",
    "        )\n",
    "        print(\"MySQL Database connection succesfull\")\n",
    "    except Error as err:\n",
    "        print(f\"Error: '{err}'\")\n",
    "    return connection\n",
    "pw = \"1507\"\n",
    "db = \"mysql_python\"\n",
    "connection = create_server_connection(\"localhost\",\"root\",pw)"
   ]
  },
  {
   "cell_type": "code",
   "execution_count": 10,
   "id": "9f03616e",
   "metadata": {},
   "outputs": [
    {
     "name": "stdout",
     "output_type": "stream",
     "text": [
      "Error: '1007 (HY000): Can't create database 'mysql_python'; database exists'\n"
     ]
    }
   ],
   "source": [
    "# Create mysql_python\n",
    "def create_database(connection,query):\n",
    "    cursor = connection.cursor()\n",
    "    try:\n",
    "        cursor.execute(query)\n",
    "        print(\"Database created succesfully\")\n",
    "    except Error as err:\n",
    "        print(f\"Error: '{err}'\")\n",
    "create_database_query = \"CREATE DATABASE mysql_python\"\n",
    "create_database(connection, create_database_query)"
   ]
  },
  {
   "cell_type": "code",
   "execution_count": 37,
   "id": "53236338",
   "metadata": {},
   "outputs": [],
   "source": [
    "# Connect to database\n",
    "def create_db_connection(host_name, user_name, user_password, db_name):\n",
    "    connection = None\n",
    "    try:\n",
    "        connection = mysql.connector.connect(\n",
    "            host = host_name,\n",
    "            user = user_name,\n",
    "            password = user_password,\n",
    "            database = db_name\n",
    "        )\n",
    "        print(\"MySQL Database connection successfull\")\n",
    "    except Error as err:\n",
    "        print(f\"Error:'{err}'\")\n",
    "    return connection"
   ]
  },
  {
   "cell_type": "code",
   "execution_count": 38,
   "id": "63f33676",
   "metadata": {},
   "outputs": [],
   "source": [
    "# Execute SQL Queries\n",
    "def execute_query(connection, query):\n",
    "    cursor = connection.cursor()\n",
    "    try:\n",
    "        cursor.execute(query)\n",
    "        connection.commit()\n",
    "        print(\"Query was Successfull\")\n",
    "    except Error as err:\n",
    "        print(f\"Error: '{err}'\")"
   ]
  },
  {
   "cell_type": "code",
   "execution_count": 39,
   "id": "9a82e0c5",
   "metadata": {},
   "outputs": [
    {
     "name": "stdout",
     "output_type": "stream",
     "text": [
      "MySQL Database connection successfull\n",
      "Error: '1050 (42S01): Table 'orders' already exists'\n"
     ]
    }
   ],
   "source": [
    "create_orders_table = \"\"\"\n",
    "CREATE TABLE orders(\n",
    "order_id INT PRIMARY KEY,\n",
    "custommer_name VARCHAR(30) NOT NULL,\n",
    "product_name VARCHAR(20) NOT NULL,\n",
    "date_ordered DATE,\n",
    "quantity INT,\n",
    "unit_price FLOAT,\n",
    "phone_number VARCHAR(20));\n",
    "\"\"\"\n",
    "#connect to the Database\n",
    "connection = create_db_connection(\"localhost\",\"root\",pw,db)\n",
    "execute_query(connection, create_orders_table)"
   ]
  },
  {
   "cell_type": "code",
   "execution_count": 42,
   "id": "b8c80b80",
   "metadata": {},
   "outputs": [
    {
     "name": "stdout",
     "output_type": "stream",
     "text": [
      "MySQL Database connection successfull\n",
      "Error: '1062 (23000): Duplicate entry '101' for key 'orders.PRIMARY''\n"
     ]
    }
   ],
   "source": [
    "# Insert data\n",
    "data_orders = \"\"\"\n",
    "INSERT INTO orders VALUES \n",
    "(101,'Anshiii','Laptop','2023-06-12',1,200,'458756895'),\n",
    "(102,'Anshily','Mouse','2023-05-12',1,200,'133416895'),\n",
    "(103,'Anshika','Keyboard','2023-09-12',1,200,'673482895'),\n",
    "(104,'Anushika','USB','2023-11-12',1,200,'483726495'),\n",
    "(105,'Anisha','Laptop','2023-03-12',1,200,'457484593');\n",
    "\"\"\"\n",
    "connection = create_db_connection(\"localhost\",\"root\",pw,db)\n",
    "execute_query(connection, data_orders)"
   ]
  },
  {
   "cell_type": "code",
   "execution_count": 43,
   "id": "ee2ddacc",
   "metadata": {},
   "outputs": [],
   "source": [
    "def read_query(connection,query):\n",
    "    cursor = connection.cursor()\n",
    "    result = None\n",
    "    try:\n",
    "        cursor.execute(query)\n",
    "        result = cursor.fetchall()\n",
    "        return result \n",
    "    except Error as err:\n",
    "        print(f\"Error: '{err}'\")"
   ]
  },
  {
   "cell_type": "code",
   "execution_count": 44,
   "id": "1361f2c4",
   "metadata": {},
   "outputs": [
    {
     "name": "stdout",
     "output_type": "stream",
     "text": [
      "MySQL Database connection successfull\n",
      "(101, 'Anshiii', 'Laptop', datetime.date(2023, 6, 12), 1, 200.0, '458756895')\n",
      "(102, 'Anshily', 'Mouse', datetime.date(2023, 5, 12), 1, 200.0, '133416895')\n",
      "(103, 'Anshika', 'Keyboard', datetime.date(2023, 9, 12), 1, 200.0, '673482895')\n",
      "(104, 'Anushika', 'USB', datetime.date(2023, 11, 12), 1, 200.0, '483726495')\n",
      "(105, 'Anisha', 'Laptop', datetime.date(2023, 3, 12), 1, 200.0, '457484593')\n"
     ]
    }
   ],
   "source": [
    "# using the select stmt\n",
    "q1 = \"\"\"\n",
    "SELECT * FROM orders;\n",
    "\"\"\"\n",
    "connection = create_db_connection(\"localhost\",\"root\",pw,db)\n",
    "results = read_query(connection,q1)\n",
    "for result in results:\n",
    "    print(result)"
   ]
  },
  {
   "cell_type": "code",
   "execution_count": 45,
   "id": "094b0872",
   "metadata": {},
   "outputs": [
    {
     "name": "stdout",
     "output_type": "stream",
     "text": [
      "MySQL Database connection successfull\n",
      "('Anshiii', '458756895')\n",
      "('Anshily', '133416895')\n",
      "('Anshika', '673482895')\n",
      "('Anushika', '483726495')\n",
      "('Anisha', '457484593')\n"
     ]
    }
   ],
   "source": [
    "q2 = \"\"\"\n",
    "SELECT custommer_name, phone_number FROM orders;\n",
    "\"\"\"\n",
    "connection = create_db_connection(\"localhost\",\"root\",pw,db)\n",
    "results = read_query(connection,q2)\n",
    "for result in results:\n",
    "    print(result)"
   ]
  },
  {
   "cell_type": "code",
   "execution_count": 46,
   "id": "70273b22",
   "metadata": {},
   "outputs": [
    {
     "name": "stdout",
     "output_type": "stream",
     "text": [
      "MySQL Database connection successfull\n",
      "(2023,)\n",
      "(2023,)\n",
      "(2023,)\n",
      "(2023,)\n",
      "(2023,)\n"
     ]
    }
   ],
   "source": [
    "q3 = \"\"\"\n",
    "SELECT year(date_ordered) FROM orders;\n",
    "\"\"\"\n",
    "connection = create_db_connection(\"localhost\",\"root\",pw,db)\n",
    "results = read_query(connection,q3)\n",
    "for result in results:\n",
    "    print(result)"
   ]
  },
  {
   "cell_type": "code",
   "execution_count": 47,
   "id": "928aaa5a",
   "metadata": {},
   "outputs": [
    {
     "name": "stdout",
     "output_type": "stream",
     "text": [
      "MySQL Database connection successfull\n",
      "(2023,)\n"
     ]
    }
   ],
   "source": [
    "q4 = \"\"\"\n",
    "SELECT DISTINCT year(date_ordered) FROM orders;\n",
    "\"\"\"\n",
    "connection = create_db_connection(\"localhost\",\"root\",pw,db)\n",
    "results = read_query(connection,q4)\n",
    "for result in results:\n",
    "    print(result)"
   ]
  },
  {
   "cell_type": "code",
   "execution_count": 48,
   "id": "45bac34f",
   "metadata": {},
   "outputs": [
    {
     "name": "stdout",
     "output_type": "stream",
     "text": [
      "MySQL Database connection successfull\n",
      "(102, 'Anshily', 'Mouse', datetime.date(2023, 5, 12), 1, 200.0, '133416895')\n",
      "(105, 'Anisha', 'Laptop', datetime.date(2023, 3, 12), 1, 200.0, '457484593')\n"
     ]
    }
   ],
   "source": [
    "q5 = \"\"\"\n",
    "SELECT * FROM orders WHERE date_ordered  < '2023-06-12'\n",
    "\"\"\"\n",
    "connection = create_db_connection(\"localhost\",\"root\",pw,db)\n",
    "results = read_query(connection,q5)\n",
    "for result in results:\n",
    "    print(result)"
   ]
  },
  {
   "cell_type": "code",
   "execution_count": 49,
   "id": "6eaa0607",
   "metadata": {},
   "outputs": [
    {
     "name": "stdout",
     "output_type": "stream",
     "text": [
      "MySQL Database connection successfull\n",
      "(102, 'Anshily', 'Mouse', datetime.date(2023, 5, 12), 1, 200.0, '133416895')\n",
      "(105, 'Anisha', 'Laptop', datetime.date(2023, 3, 12), 1, 200.0, '457484593')\n"
     ]
    }
   ],
   "source": [
    "q6 = \"\"\"\n",
    "SELECT * FROM orders WHERE date_ordered  < '2023-06-12'\n",
    "\"\"\"\n",
    "connection = create_db_connection(\"localhost\",\"root\",pw,db)\n",
    "results = read_query(connection,q6)\n",
    "for result in results:\n",
    "    print(result)"
   ]
  },
  {
   "cell_type": "code",
   "execution_count": 50,
   "id": "80b25d35",
   "metadata": {},
   "outputs": [
    {
     "name": "stdout",
     "output_type": "stream",
     "text": [
      "MySQL Database connection successfull\n",
      "(101, 'Anshiii', 'Laptop', datetime.date(2023, 6, 12), 1, 200.0, '458756895')\n",
      "(102, 'Anshily', 'Mouse', datetime.date(2023, 5, 12), 1, 200.0, '133416895')\n",
      "(103, 'Anshika', 'Keyboard', datetime.date(2023, 9, 12), 1, 200.0, '673482895')\n",
      "(104, 'Anushika', 'USB', datetime.date(2023, 11, 12), 1, 200.0, '483726495')\n",
      "(105, 'Anisha', 'Laptop', datetime.date(2023, 3, 12), 1, 200.0, '457484593')\n"
     ]
    }
   ],
   "source": [
    "q7 = \"\"\"\n",
    "SELECT * FROM orders ORDER BY unit_price DESC;\n",
    "\"\"\"\n",
    "connection = create_db_connection(\"localhost\",\"root\",pw,db)\n",
    "results = read_query(connection,q7)\n",
    "for result in results:\n",
    "    print(result)"
   ]
  },
  {
   "cell_type": "code",
   "execution_count": 51,
   "id": "ea04e5dc",
   "metadata": {},
   "outputs": [
    {
     "data": {
      "text/html": [
       "<div>\n",
       "<style scoped>\n",
       "    .dataframe tbody tr th:only-of-type {\n",
       "        vertical-align: middle;\n",
       "    }\n",
       "\n",
       "    .dataframe tbody tr th {\n",
       "        vertical-align: top;\n",
       "    }\n",
       "\n",
       "    .dataframe thead th {\n",
       "        text-align: right;\n",
       "    }\n",
       "</style>\n",
       "<table border=\"1\" class=\"dataframe\">\n",
       "  <thead>\n",
       "    <tr style=\"text-align: right;\">\n",
       "      <th></th>\n",
       "      <th>oredered_id</th>\n",
       "      <th>customer_name</th>\n",
       "      <th>product_name</th>\n",
       "      <th>date_ordered</th>\n",
       "      <th>quantity</th>\n",
       "      <th>unit_price</th>\n",
       "      <th>phone_number</th>\n",
       "    </tr>\n",
       "  </thead>\n",
       "  <tbody>\n",
       "    <tr>\n",
       "      <th>0</th>\n",
       "      <td>101</td>\n",
       "      <td>Anshiii</td>\n",
       "      <td>Laptop</td>\n",
       "      <td>2023-06-12</td>\n",
       "      <td>1</td>\n",
       "      <td>200.0</td>\n",
       "      <td>458756895</td>\n",
       "    </tr>\n",
       "    <tr>\n",
       "      <th>1</th>\n",
       "      <td>102</td>\n",
       "      <td>Anshily</td>\n",
       "      <td>Mouse</td>\n",
       "      <td>2023-05-12</td>\n",
       "      <td>1</td>\n",
       "      <td>200.0</td>\n",
       "      <td>133416895</td>\n",
       "    </tr>\n",
       "    <tr>\n",
       "      <th>2</th>\n",
       "      <td>103</td>\n",
       "      <td>Anshika</td>\n",
       "      <td>Keyboard</td>\n",
       "      <td>2023-09-12</td>\n",
       "      <td>1</td>\n",
       "      <td>200.0</td>\n",
       "      <td>673482895</td>\n",
       "    </tr>\n",
       "    <tr>\n",
       "      <th>3</th>\n",
       "      <td>104</td>\n",
       "      <td>Anushika</td>\n",
       "      <td>USB</td>\n",
       "      <td>2023-11-12</td>\n",
       "      <td>1</td>\n",
       "      <td>200.0</td>\n",
       "      <td>483726495</td>\n",
       "    </tr>\n",
       "    <tr>\n",
       "      <th>4</th>\n",
       "      <td>105</td>\n",
       "      <td>Anisha</td>\n",
       "      <td>Laptop</td>\n",
       "      <td>2023-03-12</td>\n",
       "      <td>1</td>\n",
       "      <td>200.0</td>\n",
       "      <td>457484593</td>\n",
       "    </tr>\n",
       "  </tbody>\n",
       "</table>\n",
       "</div>"
      ],
      "text/plain": [
       "   oredered_id customer_name product_name date_ordered  quantity  unit_price  \\\n",
       "0          101       Anshiii       Laptop   2023-06-12         1       200.0   \n",
       "1          102       Anshily        Mouse   2023-05-12         1       200.0   \n",
       "2          103       Anshika     Keyboard   2023-09-12         1       200.0   \n",
       "3          104      Anushika          USB   2023-11-12         1       200.0   \n",
       "4          105        Anisha       Laptop   2023-03-12         1       200.0   \n",
       "\n",
       "  phone_number  \n",
       "0    458756895  \n",
       "1    133416895  \n",
       "2    673482895  \n",
       "3    483726495  \n",
       "4    457484593  "
      ]
     },
     "metadata": {},
     "output_type": "display_data"
    }
   ],
   "source": [
    "from_db = []\n",
    "for result in results:\n",
    "    result = list(result)\n",
    "    from_db.append(result)\n",
    "columns = [\"oredered_id\",\"customer_name\",\"product_name\", \"date_ordered\", \"quantity\", \"unit_price\",\"phone_number\"]\n",
    "df = pd.DataFrame(from_db, columns = columns)\n",
    "display(df)"
   ]
  }
 ],
 "metadata": {
  "kernelspec": {
   "display_name": "Python 3 (ipykernel)",
   "language": "python",
   "name": "python3"
  },
  "language_info": {
   "codemirror_mode": {
    "name": "ipython",
    "version": 3
   },
   "file_extension": ".py",
   "mimetype": "text/x-python",
   "name": "python",
   "nbconvert_exporter": "python",
   "pygments_lexer": "ipython3",
   "version": "3.11.7"
  }
 },
 "nbformat": 4,
 "nbformat_minor": 5
}
